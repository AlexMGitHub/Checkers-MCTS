{
 "cells": [
  {
   "cell_type": "code",
   "execution_count": null,
   "metadata": {},
   "outputs": [],
   "source": [
    "\"\"\" \n",
    "NOTES:\n",
    "\n",
    "Choose the Python3 (TensorFlow 2.1 Python 3.6 CPU Optimized) Kernel\n",
    "\n",
    "TF 2.3 seemed to freeze up - parallel processing may not work with it.\n",
    "\"\"\""
   ]
  },
  {
   "cell_type": "code",
   "execution_count": null,
   "metadata": {},
   "outputs": [],
   "source": [
    "# Extract zipfile\n",
    "import zipfile as zf\n",
    "files = zf.ZipFile(\"sagemaker_checkers.zip\", 'r')\n",
    "files.extractall('.')\n",
    "files.close()"
   ]
  },
  {
   "cell_type": "code",
   "execution_count": null,
   "metadata": {},
   "outputs": [],
   "source": [
    "# Check working directory, change to Checkers-MCTS if necessary\n",
    "import os\n",
    "os.getcwd()\n",
    "#os.chdir('Checkers-MCTS')\n",
    "#os.getcwd()"
   ]
  },
  {
   "cell_type": "code",
   "execution_count": null,
   "metadata": {},
   "outputs": [],
   "source": [
    "# Verify number of processors - Change NUM_CPUS and NUM_GAMES in train_Checkers.py\n",
    "import multiprocessing as mp\n",
    "MAX_PROCESSORS = mp.cpu_count()\n",
    "print(MAX_PROCESSORS)"
   ]
  },
  {
   "cell_type": "code",
   "execution_count": null,
   "metadata": {},
   "outputs": [],
   "source": [
    "# Install modules if necessary\n",
    "! pip install matplotlib\n",
    "! pip install tabulate"
   ]
  },
  {
   "cell_type": "code",
   "execution_count": 4,
   "metadata": {},
   "outputs": [
    {
     "name": "stdout",
     "output_type": "stream",
     "text": [
      "player1_wins after 10 moves!\n",
      "draw after 10 moves!\n"
     ]
    }
   ],
   "source": [
    "# Run the self-play phase of the training pipeline\n",
    "%run train_Checkers.py\n",
    "\n",
    "# Save training data to Amazon S3 bucket\n",
    "fns = os.listdir('data/training_data')\n",
    "prefix = 'data/training_data'\n",
    "import boto3\n",
    "import sagemaker\n",
    "bucket = sagemaker.Session().default_bucket()   # Default S3 URI. Replace it with your S3 URI if you want.\n",
    "for filename in fns:\n",
    "    key = \"{}/{}\".format(prefix,filename)\n",
    "    url = 's3://{}/{}'.format(bucket, key)\n",
    "    boto3.Session().resource('s3').Bucket(bucket).Object(key).upload_file(key)\n",
    "    print('Done writing to {}'.format(url))"
   ]
  },
  {
   "cell_type": "code",
   "execution_count": 7,
   "metadata": {},
   "outputs": [
    {
     "name": "stdout",
     "output_type": "stream",
     "text": [
      "/bin/sh: 1: zip: not found\n"
     ]
    }
   ],
   "source": [
    "# Run this notebook from within Checkers-MCTS and zip the entire directory\n",
    "import os\n",
    "import zipfile\n",
    "\n",
    "def zipdir(path, ziph):\n",
    "    # ziph is zipfile handle\n",
    "    for root, dirs, files in os.walk(path):\n",
    "        for file in files:\n",
    "            ziph.write(os.path.join(root, file), os.path.relpath(os.path.join(root, file), os.path.join(path, '..')))\n",
    "  \n",
    "if __name__ == '__main__':\n",
    "    zipf = zipfile.ZipFile('sagemaker_checkers.zip', 'w', zipfile.ZIP_DEFLATED)\n",
    "    zipdir('.', zipf)\n",
    "    zipf.close()"
   ]
  },
  {
   "cell_type": "code",
   "execution_count": null,
   "metadata": {},
   "outputs": [],
   "source": []
  }
 ],
 "metadata": {
  "instance_type": "ml.t3.medium",
  "kernelspec": {
   "display_name": "Python 3 (TensorFlow 2.1 Python 3.6 CPU Optimized)",
   "language": "python",
   "name": "python3__SAGEMAKER_INTERNAL__arn:aws:sagemaker:us-east-1:081325390199:image/tensorflow-2.1-cpu-py36"
  },
  "language_info": {
   "codemirror_mode": {
    "name": "ipython",
    "version": 3
   },
   "file_extension": ".py",
   "mimetype": "text/x-python",
   "name": "python",
   "nbconvert_exporter": "python",
   "pygments_lexer": "ipython3",
   "version": "3.6.9"
  }
 },
 "nbformat": 4,
 "nbformat_minor": 4
}
