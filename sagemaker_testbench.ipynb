{
 "cells": [
  {
   "cell_type": "code",
   "execution_count": null,
   "metadata": {},
   "outputs": [],
   "source": [
    "\"\"\" \n",
    "NOTES:\n",
    "\n",
    "Choose the Python3 (TensorFlow 2.1 Python 3.6 CPU Optimized) Kernel if using Sagemaker Studio\n",
    "Choose conda_tensorflow2_p36 if using Sagemaker notebook\n",
    "\n",
    "TF 2.3 seemed to freeze up - parallel processing may not work with it.\n",
    "\"\"\""
   ]
  },
  {
   "cell_type": "code",
   "execution_count": null,
   "metadata": {},
   "outputs": [],
   "source": [
    "# Check working directory, change to Checkers-MCTS if necessary\n",
    "import os\n",
    "os.getcwd()\n",
    "#os.chdir('Checkers-MCTS')\n",
    "#os.getcwd()"
   ]
  },
  {
   "cell_type": "code",
   "execution_count": null,
   "metadata": {},
   "outputs": [],
   "source": [
    "# Verify number of processors - Change NUM_CPUS and NUM_GAMES in train_Checkers.py\n",
    "import multiprocessing as mp\n",
    "MAX_PROCESSORS = mp.cpu_count()\n",
    "print(MAX_PROCESSORS)"
   ]
  },
  {
   "cell_type": "code",
   "execution_count": null,
   "metadata": {},
   "outputs": [],
   "source": [
    "# Install modules if necessary\n",
    "# pip install matplotlib\n",
    "# pip install tabulate"
   ]
  },
  {
   "cell_type": "code",
   "execution_count": null,
   "metadata": {},
   "outputs": [],
   "source": [
    "# Run the self-play phase of the training pipeline\n",
    "%run train_Checkers.py\n",
    "\n",
    "# Save training data to Amazon S3 bucket\n",
    "fns = os.listdir('data/training_data')\n",
    "prefix = 'data/training_data'\n",
    "import boto3\n",
    "import sagemaker\n",
    "bucket = sagemaker.Session().default_bucket()   # Default S3 URI. Replace it with your S3 URI if you want.\n",
    "for fn in fns:\n",
    "    if '.txt' in fn or '.pkl' in fn:\n",
    "        key = \"{}/{}\".format(prefix,fn)\n",
    "        url = 's3://{}/{}'.format(bucket, key)\n",
    "        boto3.Session().resource('s3').Bucket(bucket).Object(key).upload_file(key)\n",
    "        print('Done writing to {}'.format(url))"
   ]
  },
  {
   "cell_type": "code",
   "execution_count": null,
   "metadata": {},
   "outputs": [],
   "source": [
    "# Delete files once transferred to S3 bucket\n",
    "fns = os.listdir('data/training_data')\n",
    "for fn in fns:\n",
    "    if '.pkl' in fn or '.txt' in fn:\n",
    "        filename = 'data/training_data/' + fn\n",
    "        os.remove(filename)\n",
    "        print('Removed {}!'.format(filename))"
   ]
  }
 ],
 "metadata": {
  "instance_type": "ml.t3.medium",
  "kernelspec": {
   "display_name": "Python 3",
   "language": "python",
   "name": "python3"
  },
  "language_info": {
   "codemirror_mode": {
    "name": "ipython",
    "version": 3
   },
   "file_extension": ".py",
   "mimetype": "text/x-python",
   "name": "python",
   "nbconvert_exporter": "python",
   "pygments_lexer": "ipython3",
   "version": "3.7.5"
  }
 },
 "nbformat": 4,
 "nbformat_minor": 4
}
